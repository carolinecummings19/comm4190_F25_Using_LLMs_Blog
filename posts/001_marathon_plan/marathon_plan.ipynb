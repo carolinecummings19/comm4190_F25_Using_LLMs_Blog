{
 "cells": [
  {
   "cell_type": "raw",
   "id": "6fb7cbe2-4883-4ea4-82b5-e99a565cc8af",
   "metadata": {},
   "source": [
    "---\n",
    "title: \"Prompting for marathon training plan\"\n",
    "description: \"How do you get LLMs to help you plan your training\" \n",
    "author: \"Caroline\"\n",
    "date: \"9/8/2025\"\n",
    "categories:\n",
    "  - LLMs\n",
    "  - Long Distance Running\n",
    "---"
   ]
  },
  {
   "cell_type": "markdown",
   "id": "36564269-3411-4f17-ae7a-b9b0c24ec61e",
   "metadata": {},
   "source": [
    "# My New Running Coach: ChatGPT"
   ]
  },
  {
   "cell_type": "markdown",
   "id": "88290554-85a1-4be6-a5ae-7ff5c7a64f35",
   "metadata": {},
   "source": [
    "## Asking ChatGPT to make a 2 month marathon training plan for the Philadelphia Marathon."
   ]
  }
 ],
 "metadata": {
  "kernelspec": {
   "display_name": "Python 3-12 (COMM4190)",
   "language": "python",
   "name": "python3-12_comm4190"
  },
  "language_info": {
   "codemirror_mode": {
    "name": "ipython",
    "version": 3
   },
   "file_extension": ".py",
   "mimetype": "text/x-python",
   "name": "python",
   "nbconvert_exporter": "python",
   "pygments_lexer": "ipython3",
   "version": "3.12.11"
  }
 },
 "nbformat": 4,
 "nbformat_minor": 5
}
