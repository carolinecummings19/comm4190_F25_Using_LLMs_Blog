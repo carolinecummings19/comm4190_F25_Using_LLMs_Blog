{
 "cells": [
  {
   "cell_type": "raw",
   "id": "6fb7cbe2-4883-4ea4-82b5-e99a565cc8af",
   "metadata": {},
   "source": [
    "---\n",
    "title: \"Prompting ChatGPT for marathon training plan\"\n",
    "description: \"How do you get LLMs to help you plan your training\" \n",
    "author: \"Caroline Cummings\"\n",
    "date: \"9/10/2025\"\n",
    "categories:\n",
    "  - LLMs\n",
    "  - Long Distance Running\n",
    "---"
   ]
  },
  {
   "cell_type": "markdown",
   "id": "36564269-3411-4f17-ae7a-b9b0c24ec61e",
   "metadata": {},
   "source": [
    "# My New Running Coach: ChatGPT"
   ]
  },
  {
   "cell_type": "markdown",
   "id": "88290554-85a1-4be6-a5ae-7ff5c7a64f35",
   "metadata": {},
   "source": [
    "## Asking ChatGPT to make a 2 month marathon training plan for the Philadelphia Marathon."
   ]
  },
  {
   "cell_type": "markdown",
   "id": "584599b9-3b77-4927-a705-69641cafbd3b",
   "metadata": {},
   "source": [
    "### Why I Tried ChatGPT for Marathon Training\n",
    "I’ve been running consistently, but I’ve never had a formal marathon plan tailored to my goals and timeframe. Hiring a coach can be expensive, and online plans are usually one-size-fits-all.  \n",
    "So, I decided to experiment: what if ChatGPT 5 could be my running coach?"
   ]
  },
  {
   "cell_type": "markdown",
   "id": "2926bd80-8c28-44dd-9d9c-9c055da05700",
   "metadata": {},
   "source": [
    "### Formulating an Effective Prompt\n",
    "I wanted to have the final plan customized for me based on my current fitness and lifestlye. I started off by asking ChatGPT what sort of information it wanted from me in order to make my training plan. \n"
   ]
  },
  {
   "cell_type": "markdown",
   "id": "34c0aadb-8748-4272-b1da-710a5dc7d96d",
   "metadata": {},
   "source": [
    "---\n",
    "\n",
    "**User:** I want you to be my running coach to help me train for the 2025 Philadelphia Marathon which is in 2 months. Can you give me a list of questions that you would ask me in order to formulate a customized training plan for me?\n",
    "\n",
    "---\n",
    "\n",
    "**ChatGPT:** \n",
    "Perfect! To create a **customized 2-month training plan** for the 2025 Philadelphia Marathon, I’d want to get a full picture of your background, goals, lifestyle, and constraints. Here’s a list of questions I’d ask you as your “coach”:\n",
    "\n",
    "🏃 Running Background\n",
    "\n",
    "1. What is your current weekly mileage?\n",
    "2. What’s the longest run you’ve completed recently?\n",
    "3. Have you ever run a marathon before? If so, what was your time/experience like?\n",
    "4. Do you have recent race times for shorter distances (5K, 10K, half marathon)?\n",
    "5. Do you typically run on roads, tracks, or trails?\n",
    "\n",
    "\n",
    "🎯 Goals & Expectations\n",
    "\n",
    "6. What is your primary goal for the Philadelphia Marathon — finish strong, hit a specific time, or qualify for something (e.g., Boston)?\n",
    "7. Do you have a target pace in mind for race day?\n",
    "8. What’s more important to you: speed, endurance, or simply enjoying the experience?\n",
    "\n",
    "\n",
    "🏋️ Strength & Cross Training\n",
    "\n",
    "9. Do you currently do strength training or cross training (cycling, swimming, yoga, etc.)?\n",
    "10. Are you open to incorporating strength/mobility sessions into your plan?\n",
    "\n",
    "\n",
    "⏰ Schedule & Lifestyle\n",
    "\n",
    "11. How many days per week can you realistically commit to running?\n",
    "12. Do you prefer morning, afternoon, or evening runs?\n",
    "13. Do you have any upcoming travel, work, or school commitments that may affect training?\n",
    "\n",
    "\n",
    "🩺 Health & Injury History\n",
    "\n",
    "14. Have you had any past or current injuries (knees, shins, ankles, hips, etc.)?\n",
    "15. Do you have any health concerns I should keep in mind (e.g., asthma, anemia, nutrition issues)?\n",
    "\n",
    "\n",
    "🥗 Fueling & Recovery\n",
    "\n",
    "16. How’s your nutrition and hydration routine right now?\n",
    "17. Do you have experience practicing fueling (gels, chews, hydration) on long runs?\n",
    "18. How many hours of sleep do you typically get per night?\n",
    "\n",
    "\n",
    "🌦 Race-Day Specifics\n",
    "\n",
    "19. Have you run in Philadelphia before, or are you familiar with the marathon course?\n",
    "20. Do you have gear preferences (shoes, watch, hydration belt/vest)?\n",
    "\n",
    "\n",
    "💡 Personal Motivation\n",
    "\n",
    "21. What motivates you most: following a structured plan, listening to your body, or running with others?\n",
    "22. What do you hope to get out of this marathon beyond just finishing (confidence, health, community, fun)?\n",
    "\n",
    "---\n",
    "\n"
   ]
  },
  {
   "cell_type": "markdown",
   "id": "1f2f17a1-ec09-4fc5-9650-e9306688e2fc",
   "metadata": {},
   "source": [
    "It gave me 22 questions to answer! I answered each of them to the best of my ability with hopes of having a very in-depth and tailored training plan. "
   ]
  },
  {
   "cell_type": "markdown",
   "id": "56cea699-af4d-4021-ba85-2b894b428c67",
   "metadata": {},
   "source": [
    "### The Plan ChatGPT Gave Me"
   ]
  },
  {
   "cell_type": "markdown",
   "id": "261f213b-0985-4483-a81c-a5316f337772",
   "metadata": {},
   "source": [
    "**8-Week Philadelphia Marathon Training Plan**\n",
    "\n",
    "*(Starting Monday, Sept 15, 2025 → Race Day Sunday, Nov 23, 2025)*\n",
    "\n",
    "| Week | M | T | W | Th | F | S | S |\n",
    "|------|---|---|---|----|---|---|---|\n",
    "| 1 (Sept 15) | Rest / XT | 6 mi easy | 5 mi w/ strides | 6 mi @ MP (8:00–8:15) | Rest | 4 mi shakeout | **Half Marathon Race** |\n",
    "| 2 (Sept 22) | Rest | **14 mi long run** | 6 mi aerobic | 6 x 1k @ 10K pace | Rest | 6 mi easy | 5 mi recovery |\n",
    "| 3 (Sept 29) | Rest | 7 mi easy | 5 mi tempo (HM pace) | 7 mi aerobic | Rest | 5 mi easy | 16 mi long run (last 4 @ MP) |\n",
    "| 4 (Oct 6) | Rest | 8 mi aerobic | 8 x 800m @ 10K pace | 6 mi easy | Rest | 6 mi easy | 18 mi long run |\n",
    "| 5 (Oct 13) | Rest | 7 mi easy | 6 mi tempo (HM pace) | 8 mi aerobic | Rest | 6 mi easy | 20 mi long run (last 6 @ MP) |\n",
    "| 6 (Oct 20) | Rest | **18 mi long run (last 5 @ MP)** | 6 mi aerobic | 10 x 400m @ 5K pace | Rest | 6 mi easy | 5 mi recovery |\n",
    "| 7 (Oct 27) | Rest | 7 mi easy | 5 mi tempo (HM pace) | 6 mi aerobic | Rest | 5 mi easy | 14 mi long run |\n",
    "| 8 (Nov 3) | Rest | **10 mi long run** | 6 mi aerobic | 6 x 800m @ 10K pace | Rest | 4 mi shakeout | 5 mi recovery |\n",
    "| 9 (Nov 10) | Rest | 5 mi easy | 4 mi tempo | 5 mi aerobic | Rest | 4 mi shakeout | 8 mi long run |\n",
    "| 10 (Nov 17) | Rest | 4 mi easy | 3 mi w/ strides | 3 mi easy | Rest | 2 mi shakeout | **RACE DAY! 26.2 mi** |\n",
    "\n",
    "**Key:**\n",
    "- **MP = Marathon Pace (8:00–8:15/mi)**\n",
    "- **Tempo = Half Marathon pace (~7:55–8:00/mi)**\n",
    "- **Intervals = 10K pace (~7:40–7:50/mi) or 5K pace (~6:55–7:05/mi)**\n",
    "- Easy/aerobic runs = comfortable conversational pace (~9:00–9:30/mi)\n",
    "- Long runs include fueling practice + hydration\n",
    "- Rest = rest day or optional cross training (bike, swim, yoga)\n",
    "\n"
   ]
  },
  {
   "cell_type": "markdown",
   "id": "e80115a5-66a5-4625-af8b-80e56e381a1e",
   "metadata": {},
   "source": [
    "### Final Thoughts\n",
    "This experiment showed me how AI can make training feel more accessible.  \n",
    "While it won’t replace years of coaching expertise, it’s a surprisingly motivating and structured tool.  \n",
    "For now, ChatGPT is my new running buddy — and hopefully, it’ll help me cross the finish line in Philadelphia this fall.  "
   ]
  }
 ],
 "metadata": {
  "kernelspec": {
   "display_name": "Python 3-12 (COMM4190)",
   "language": "python",
   "name": "python3-12_comm4190"
  },
  "language_info": {
   "codemirror_mode": {
    "name": "ipython",
    "version": 3
   },
   "file_extension": ".py",
   "mimetype": "text/x-python",
   "name": "python",
   "nbconvert_exporter": "python",
   "pygments_lexer": "ipython3",
   "version": "3.12.11"
  }
 },
 "nbformat": 4,
 "nbformat_minor": 5
}
