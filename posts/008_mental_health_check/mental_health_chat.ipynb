{
 "cells": [
  {
   "cell_type": "raw",
   "id": "b1031686-ab2a-47e9-a377-517fda4636ed",
   "metadata": {},
   "source": [
    "---\n",
    "title: \"Comparing ChatGPT 5.0 with a Mental Health LLM\"\n",
    "description: \"Can ChatGPT 5.0 be a better therapist than Woebot?\" \n",
    "author: \"Caroline Cummings\"\n",
    "date: \"9/24/2025\"\n",
    "categories:\n",
    "  - LLMs\n",
    "  - Woebot\n",
    "  - ChatGPT 5.0\n",
    "---"
   ]
  },
  {
   "cell_type": "markdown",
   "id": "5cd78746-01c7-4c1d-a375-16484d74aa75",
   "metadata": {},
   "source": [
    "I have heard of some of my friends using ChatGPT as a tool to talk to and vent their feelings. So, I was already under the assumptions that people were using LLMs as therapists. \n",
    "\n",
    "In my book *Superagency*, I was excited to read about how there are models being built specifically as therapists. However, Reid Hoffman highlights the failure of the specialized LLM, Woebot, to be emotionally attuned. Specifically, he gives this example:\n",
    "\n",
    "```\n",
    "Woebot: Okay, want to tell me more about what’s going on?\n",
    "\n",
    "User: I’m feeling weird. It’s like I’m empty inside. When I look at the faces of my friends and family, I feel like they are empty as well. That’s why we cannot connect with each other. There’s nothing to hold on to.\n",
    "\n",
    "Woebot: Sounds like you are dealing with feeling low…\n",
    "```"
   ]
  },
  {
   "cell_type": "markdown",
   "id": "18d1bac3-7802-4d95-8c33-3a2b37772811",
   "metadata": {},
   "source": [
    "That seemed a bit crass. In my experience, I thought of ChatGPT to be more adept so I wanted to test that same conversation with the 5.0 version to see if it responded in a similar way.\n",
    "\n",
    "---"
   ]
  },
  {
   "cell_type": "markdown",
   "id": "5a4d1b95-66f7-424c-87ec-393fa506af53",
   "metadata": {},
   "source": [
    "**User:** I’m feeling weird. It’s like I’m empty inside. When I look at the faces of my friends and family, I feel like they are empty as well. That’s why we cannot connect with each other. There’s nothing to hold on to.\n",
    "\n",
    "**ChatGPT:** That sounds really heavy—and lonely. You’re noticing not only a kind of emptiness in yourself, but also projecting that sense onto the people around you, which must make it feel even harder to connect. Almost like everyone’s faces become hollow and there’s no anchor, no solid ground to hold onto.\n",
    "\n",
    "I want you to know you’re not alone in feeling that way, even if it feels isolating. Sometimes those kinds of feelings can come with exhaustion, depression, or even just moments of disconnection where things lose their color and meaning.\n",
    "\n",
    "I’m here with you in this moment. Can I ask—when did you first start noticing this sense of emptiness?\n",
    "\n",
    "---"
   ]
  },
  {
   "cell_type": "code",
   "execution_count": null,
   "id": "acc992c6-43aa-4757-90e6-329991c7dd40",
   "metadata": {},
   "outputs": [],
   "source": []
  }
 ],
 "metadata": {
  "kernelspec": {
   "display_name": "Python 3-12 (COMM4190)",
   "language": "python",
   "name": "python3-12_comm4190"
  },
  "language_info": {
   "codemirror_mode": {
    "name": "ipython",
    "version": 3
   },
   "file_extension": ".py",
   "mimetype": "text/x-python",
   "name": "python",
   "nbconvert_exporter": "python",
   "pygments_lexer": "ipython3",
   "version": "3.12.11"
  }
 },
 "nbformat": 4,
 "nbformat_minor": 5
}
