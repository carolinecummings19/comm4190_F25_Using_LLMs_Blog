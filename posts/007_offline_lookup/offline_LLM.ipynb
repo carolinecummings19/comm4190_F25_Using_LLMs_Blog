{
 "cells": [
  {
   "cell_type": "raw",
   "id": "e716933d-e946-4378-b56a-084862c3f2f6",
   "metadata": {},
   "source": [
    "---\n",
    "title: \"Airplane Mode: Prompting DeepSeek-R1-Distill-Qwen-7B on a Plane\"\n",
    "description: \"No WiFi, no cell service. Just a local LLM.\" \n",
    "author: \"Caroline Cummings\"\n",
    "date: \"9/24/2025\"\n",
    "categories:\n",
    "  - Local LLMs\n",
    "  - Qwen-7B\n",
    "---"
   ]
  },
  {
   "cell_type": "markdown",
   "id": "d97dd789-de9f-4531-a4e5-a06fcadeb09c",
   "metadata": {},
   "source": [
    "Today I was reading my book, *Superagency*, on a plane ride where I had no service or WiFi.\n",
    "\n",
    "I came across a word that I didn’t know the meaning of: *sacrosanct*. A couple months ago I would have acknowledged that I didn’t know the word and kept reading because I did not have access to the internet, a dictionary, or ChatGPT to look up the word.\n",
    "\n",
    "However, today I remembered that I had gotten the GPT4All desktop app onto my computer last week and downloaded an LLM locally onto my computer: DeepSeek-R1-Distill-Qwen-7B. \n",
    "\n",
    "I pulled out my computer with hopes that the model was truly runnable offline. To my joy, I opened the  app and loaded the model into the chat. \n",
    "\n",
    "---"
   ]
  },
  {
   "cell_type": "markdown",
   "id": "92f12610-9e86-462e-bfb3-27cf0a8cb194",
   "metadata": {},
   "source": [
    "\n",
    "**User:** What does the word sacrosanct mean?\n",
    "\n",
    "**Model:** \"Sacrosanct\" is an adjective that describes something of great importance or authority, often beyond human contestation. It comes from the Latin words \"sacer\" (meaning priest) and \"sanctorum\" (a sacred place). In religious contexts, it refers to things held in highest spiritual regard, such as the Eucharist in Christianity or the Kaaba in Islam.\n",
    "\n",
    "---"
   ]
  },
  {
   "cell_type": "markdown",
   "id": "35dac4d0-cbed-48dd-b616-9a49705409fd",
   "metadata": {},
   "source": [
    "Wow! I was so happy that I had this powerful tool at my fingertips to converse with high up in the sky. \n",
    "\n",
    "I kept my computer open while I continued to read and came across another word that I did not know: \n",
    "\n",
    "---"
   ]
  },
  {
   "cell_type": "markdown",
   "id": "96332494-a581-443d-9a1c-74bb366a08b2",
   "metadata": {},
   "source": [
    "**User:** What does the word equanimity mean?\n",
    "\n",
    "**Model:** Equanimity means emotional balance; calmness and composure, especially in difficult circumstances. It refers to being able to remain peaceful and unruffled despite challenges or stresses. For example, someone with equanimity might handle criticism gracefully or stay composed during a heated debate.\n",
    "Synonyms: calmness, composure, stability  \n",
    "Examples:\n",
    "- The leader maintained equanimity even when the crisis escalated.\n",
    "- Her quiet demeanor suggested she had achieved a state of equanimity after years of struggle.\n",
    "  \n",
    "---"
   ]
  },
  {
   "cell_type": "markdown",
   "id": "2fb96b43-5323-4c06-b7ec-5eefc778d403",
   "metadata": {},
   "source": [
    "This time the model thought for 26 seconds before responding and I was able to see the chain of thought reasoning which I thought was very cool:\n",
    "\n",
    "\n",
    "```\n",
    "Alright, the user asked about \"sacrosanct\" earlier and I explained it. \n",
    "Now they're asking about \"equanimity.\" \n",
    "They might be studying vocabulary or preparing for an exam.\n",
    "\n",
    "I should provide a clear definition of equanimity. \n",
    "It's important to explain that it means emotional balance without getting upset by things, \n",
    "especially in tough situations.\n",
    "\n",
    "Maybe include some synonyms like calmness and composure to help them understand better. \n",
    "Also, adding examples could make the explanation more concrete—like how people use it \n",
    "when dealing with stress or conflicts.\n",
    "\n",
    "I should keep the tone friendly but informative since they're likely looking \n",
    "for a precise meaning without any fluff.\n",
    "```"
   ]
  },
  {
   "cell_type": "markdown",
   "id": "9a6c908a-a23b-4390-80c0-d562d536a29a",
   "metadata": {},
   "source": [
    "The last question I asked during my reading session was the following. The model thought for 60 seconds for this one! When I looked at the thought process, I realized that I had spelled \"psychotherapies\" wrong and it was trying to decipher my question. \n",
    "\n",
    "---\n",
    "\n",
    "**User:** What are some examples of pyschotherapies?\n",
    "\n",
    "**Model:** Here are some examples:\n",
    "\n",
    "1. **Cognitive-Behavioral Therapy (CBT)**: A widely used psychotherapeutic technique that focuses on identifying and changing negative thought patterns and behaviors.\n",
    "2. **Dialectical Behavior Therapy (DBT)**: A therapy designed to help individuals with borderline personality disorder improve their interpersonal skills, reduce harmful behaviors, and manage symptoms of mental health disorders.\n",
    "3. **Eye Movement Desensitization and Reprocessing (EMDR)**: Also known as processing trauma, this technique uses eye movements combined with memory retrieval to treat post-traumatic stress symptoms.\n",
    "\n",
    "If you meant something else by \"psychotherapies,\" please provide more context so I can give a more accurate response!\n",
    "\n",
    "---"
   ]
  },
  {
   "cell_type": "markdown",
   "id": "44e950f3-0812-411e-9750-b2c4bce5e6d9",
   "metadata": {},
   "source": [
    "Overall, I was really impressed by the models responses. I think it was especially cool that it provided the thought process explaination alongside the output like the frontier LLMs now do. I am excited to continue to explore its capabilities!"
   ]
  },
  {
   "cell_type": "code",
   "execution_count": null,
   "id": "820aa087-5429-428d-9636-35e3886f4bc0",
   "metadata": {},
   "outputs": [],
   "source": []
  }
 ],
 "metadata": {
  "kernelspec": {
   "display_name": "Python 3-12 (COMM4190)",
   "language": "python",
   "name": "python3-12_comm4190"
  },
  "language_info": {
   "codemirror_mode": {
    "name": "ipython",
    "version": 3
   },
   "file_extension": ".py",
   "mimetype": "text/x-python",
   "name": "python",
   "nbconvert_exporter": "python",
   "pygments_lexer": "ipython3",
   "version": "3.12.11"
  }
 },
 "nbformat": 4,
 "nbformat_minor": 5
}
