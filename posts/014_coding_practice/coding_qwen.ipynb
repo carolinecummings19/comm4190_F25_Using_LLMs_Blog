{
 "cells": [
  {
   "cell_type": "raw",
   "id": "d83c5318-0306-485b-ab8b-0ac1c89ee421",
   "metadata": {},
   "source": [
    "---\n",
    "title: \"Testing DeepSeek-R1-Distill-Qwen-7B on Coding Skills.\"\n",
    "description: \"Another plane exploration.\"\n",
    "author: \"Caroline Cummings\"\n",
    "date: \"10/22/2025\"\n",
    "categories:\n",
    "  - Qwen-7B\n",
    "  - Python\n",
    "  - Java\n",
    "---"
   ]
  },
  {
   "cell_type": "markdown",
   "id": "c5dcdc0f-8223-407f-b371-c3d58084a6c5",
   "metadata": {},
   "source": [
    "I wanted to test the coding skills of this local model beause I had only ever used the frontier models which are very good at coding. Similar to the tutor task, I asked the model to teach me about the comparisons of Python and Java, including writing snippets of code. I tried to stay very specific so that the model wasn’t asked for too much output because it takes a lot longer to produce it’s response then a cloud-based model. \n",
    "\n",
    "I want to compare the coding languages of Python and Java. First, can you explain the differences in list implementations in the two languages?\n",
    "\n",
    "The model went over 4 key points including data storage, access time, resizing and performance, and use cases. The model only covered Python in that data storage section, stating “lists are implemented using a hash table structure” but did not compare it with Java which was a little disappointing. It stated O(1) access time for both Python and Java and threw in that the LinkedList in Java has O(n) access time but efficient insertion/deletion. It states both resize dynamically when elements exceed current capacity. It also says Java provides performance advantages because of lower-level optimizations. Finally, it dives into the use cases for each language. It highlights Python as being easy to use while Java is better when high-performance is needed.\n",
    "\n",
    "Overall, I wasn’t too impressed with its responses as it was a bit repetitive and not as robust of a response as I was hoping for\n",
    "\n",
    "I then wanted to see it write some code. I prompted:\n",
    "\n",
    "can you show me an example in each language of initializing a list [1, 2, 3, 4] and an empty list?\n",
    "\n",
    "\n",
    "I was very impressed by the output. I found no typos in the code which I was worried it might have and it even included print statements for visualizing the lists if I were to run the code which the frontier models would have likely included too. \n",
    "\n",
    "I wanted to dive more into data structures and some that include lists to eventually ask it to code a more complex code block in Python and Java. \n",
    "\n",
    "Now, I want you to tell me what are some use cases for lists in general (language independent). What data structures can be implemented using lists?\n",
    "\n",
    "It listed the use cases of: stroing ordered sequences, dynamic arrays, indexing and positional access, algorithms that require ordered operations, and building more complex data structures. It went into more depth for each listing a specific example like “Maintaining a sequence like user names in the order they log in” which were insightful. It also listed the more complex data structures like arrays, stacks, queues, linked lists, trees, and graphs which was what I was looking for in the answer. \n",
    "\n",
    "Additionally, it went on to provide more code snippets for each common data structure but only in Python. \n",
    "\n",
    "Finally, I asked it to implement the. same data structures in Java.\n",
    "\n",
    "Now, can you implement each of the common data structures in Java like you did in Python? Namely arrays, stacks, queues, linked lists, atrees, and graphs.\n",
    "\n",
    "It did it without using the pre-built in Java classes which was impressive. It was able to produce chunks of code that were around 50 lines (implementing a tree). \n",
    "\n",
    "Overall, I think that the distilled Qwen 7B model provided comparable outputs to the frontier models like ChatGPT and Gemini but maybe a little less robust. However, it takes much longer to get the output. The shortest time the model took to think was 38 seconds and the longest was 262 second which is over 4 minutes. Thus, I think that its a good option if you don’t have WiFi and need to study or need help on code but expect to wait quite a bit for any longer responses. Otherwise, the cloud-based models are very accurate and fast for coding. "
   ]
  },
  {
   "cell_type": "code",
   "execution_count": null,
   "id": "900d5ab9-fccf-4ba6-8143-3c5ac588f10f",
   "metadata": {},
   "outputs": [],
   "source": []
  }
 ],
 "metadata": {
  "kernelspec": {
   "display_name": "Python 3-12 (COMM4190)",
   "language": "python",
   "name": "python3-12_comm4190"
  },
  "language_info": {
   "codemirror_mode": {
    "name": "ipython",
    "version": 3
   },
   "file_extension": ".py",
   "mimetype": "text/x-python",
   "name": "python",
   "nbconvert_exporter": "python",
   "pygments_lexer": "ipython3",
   "version": "3.12.12"
  }
 },
 "nbformat": 4,
 "nbformat_minor": 5
}
